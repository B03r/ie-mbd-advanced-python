{
 "cells": [
  {
   "cell_type": "markdown",
   "metadata": {
    "slideshow": {
     "slide_type": "slide"
    }
   },
   "source": [
    "![IE](../img/ie.png)\n",
    "\n",
    "# Advanced Python\n",
    "\n",
    "## Master in Business Analytics and Big Data, 2020 (April intake)\n",
    "\n",
    "### Professor: Juan Luis Cano Rodríguez <jcano@faculty.ie.edu>"
   ]
  },
  {
   "cell_type": "markdown",
   "metadata": {
    "slideshow": {
     "slide_type": "slide"
    }
   },
   "source": [
    "# Outline\n",
    "\n",
    "* Who am I?\n",
    "* About this course\n",
    "  - Learning objectives\n",
    "  - Calendar\n",
    "  - Evaluation method\n",
    "  - Material\n",
    "  - Logistics"
   ]
  },
  {
   "cell_type": "markdown",
   "metadata": {
    "slideshow": {
     "slide_type": "slide"
    }
   },
   "source": [
    "# Who am I?\n",
    "\n",
    "![Me](../img/juanlu_esa.jpg)\n",
    "\n",
    "* **Aerospace Engineer** from TU Madrid, 1 year visiting student at Politecnico di Milano\n",
    "* Currently **Mission Planning & Execution Engineer** at **Satellogic**, a satellite imagery company\n",
    "* **Contributor** to the Scientific Python ecosystem: NumPy, SciPy, conda and Dask\n",
    "* **Instructor** of Python courses for Data Scientists at Airbus, Telefónica, Boeing and others\n",
    "* Experience as **Data Scientist** with Python for telco and aerospace industries\n",
    "* Former Chair of the **Python España** non profit and former co-organizer of **PyCon Spain** ([Videos from all past editions!](https://www.youtube.com/c/PythonEspañaOficial))\n",
    "* Free Software and Open Culture advocate and Python enthusiast"
   ]
  },
  {
   "cell_type": "markdown",
   "metadata": {
    "slideshow": {
     "slide_type": "slide"
    }
   },
   "source": [
    "# About this course\n",
    "\n",
    "## Learning objectives\n",
    "\n",
    "1. Learn modern software engineering practices using Python\n",
    "2. Understand the value of automation in the software engineering process\n",
    "3. Gain insight into how Data Science projects are put in production\n",
    "4. Learn better techniques to collaborate in software projects"
   ]
  },
  {
   "cell_type": "markdown",
   "metadata": {
    "slideshow": {
     "slide_type": "subslide"
    }
   },
   "source": [
    "## (My) unofficial learning objectives\n",
    "\n",
    "* Help you become autonomous Python developers\n",
    "  - ...even when left on a cluster without `sudo` and the IT guy on paternity leave\n",
    "* Make you realize how difficult can be to collaborate through git, and overcome such difficulties\n",
    "* Have fun!"
   ]
  },
  {
   "cell_type": "markdown",
   "metadata": {
    "slideshow": {
     "slide_type": "subslide"
    }
   },
   "source": [
    "## Calendar\n",
    "\n",
    "* **8 sessions** from Nov 18th to Feb 25th + **2 non-class learning sessions** Jan 28th and Feb 4th\n",
    "* **All sessions will be hands on**, bring your laptops and have your keyboards ready!"
   ]
  },
  {
   "cell_type": "markdown",
   "metadata": {
    "slideshow": {
     "slide_type": "subslide"
    }
   },
   "source": [
    "## Evaluation method\n",
    "\n",
    "| Criteria                   | Score % |\n",
    "|----------------------------|---------|\n",
    "| Class Participation        |  10 %   |\n",
    "| Individual Assignments     |  40 %   |\n",
    "| Group Project              |  50 %   |"
   ]
  },
  {
   "cell_type": "markdown",
   "metadata": {
    "slideshow": {
     "slide_type": "subslide"
    }
   },
   "source": [
    "## Optional assignment\n",
    "\n",
    "> Verify that git, Python and conda are properly configured in your terminal\n",
    "\n",
    "* Useful for you to and also for me to understand where do we stand"
   ]
  },
  {
   "cell_type": "markdown",
   "metadata": {
    "slideshow": {
     "slide_type": "subslide"
    }
   },
   "source": [
    "## Group assignment\n",
    "\n",
    "> **Convert a machine learning model into a Python library that can be easily deployed**\n",
    "\n",
    "* We will transform a Jupyter notebook into reusable, installable code\n",
    "* It will live on https://github.com/ (if you don't have an account yet, go create it)\n",
    "* Break down the code in smaller pieces, encapsulate in functions, add tests"
   ]
  },
  {
   "cell_type": "markdown",
   "metadata": {
    "slideshow": {
     "slide_type": "subslide"
    }
   },
   "source": [
    "## Individual assignment\n",
    "\n",
    "> Deploy a machine learning model using a simple web API\n",
    "\n",
    "* We will start from some reusable code and build a web (REST) API on top of it\n",
    "* It will also live on https://github.com"
   ]
  },
  {
   "cell_type": "markdown",
   "metadata": {
    "slideshow": {
     "slide_type": "subslide"
    }
   },
   "source": [
    "## ~Exam~\n",
    "\n",
    "There is no exam"
   ]
  },
  {
   "cell_type": "markdown",
   "metadata": {
    "slideshow": {
     "slide_type": "subslide"
    }
   },
   "source": [
    "## Material\n",
    "\n",
    "* Sessions notes: https://github.com/astrojuanlu/ie-mbd-advanced-python\n",
    "* Yes, everything is freely available on the Internet..."
   ]
  },
  {
   "cell_type": "markdown",
   "metadata": {
    "slideshow": {
     "slide_type": "fragment"
    }
   },
   "source": [
    "* ...so don't take these classes as a webinar! Asks questions, participate"
   ]
  },
  {
   "cell_type": "markdown",
   "metadata": {
    "slideshow": {
     "slide_type": "slide"
    }
   },
   "source": [
    "# Logistics\n",
    "\n",
    "## Q&A\n",
    "\n",
    "- Keep an eye on the \"Announcements\"\n",
    "- Use the \"Technical Q&A\" discussion board\n",
    "  - Both to ask and to answer\n",
    "  - Will count towards the participation grade"
   ]
  },
  {
   "cell_type": "markdown",
   "metadata": {
    "slideshow": {
     "slide_type": "skip"
    }
   },
   "source": [
    "# Software\n",
    "\n",
    "<div class=\"alert alert-warning\">Outdated, skip</div>\n",
    "\n",
    "> 1. **Git BASH** on Windows, **Git** on macOS (so we all use a Linux-like command line interface)\n",
    "> 2. Python >= 3.7 from Anaconda\n",
    "> 3. Any text editor or Python IDE you like\n",
    "\n",
    "- For all the work we do, **do not use the `base` environment and create a new one** (we will see how)\n",
    "- You are free to use any text editor or Python IDE you like\n",
    "  - _I_ will be using [nano](https://www.nano-editor.org/screenshots.php) on the command line, and [Visual Studio Code](https://code.visualstudio.com/) when we need a graphical editor\n",
    "  - Pick one, get comfortable with it, ignore \"editor wars\""
   ]
  },
  {
   "cell_type": "markdown",
   "metadata": {
    "slideshow": {
     "slide_type": "slide"
    }
   },
   "source": [
    "# Insights\n",
    "\n",
    "https://www.jetbrains.com/lp/python-developers-survey-2019/ (2020 results not ready yet)\n",
    "\n",
    "![OSes](../img/oses.png)"
   ]
  },
  {
   "cell_type": "markdown",
   "metadata": {
    "slideshow": {
     "slide_type": "subslide"
    }
   },
   "source": [
    "https://www.jetbrains.com/lp/python-developers-survey-2019/\n",
    "\n",
    "![IDEs](../img/ides.png)"
   ]
  },
  {
   "cell_type": "markdown",
   "metadata": {
    "slideshow": {
     "slide_type": "subslide"
    }
   },
   "source": [
    "https://www.jetbrains.com/lp/python-developers-survey-2019/\n",
    "\n",
    "![Practices](../img/practices.png)"
   ]
  },
  {
   "cell_type": "markdown",
   "metadata": {
    "slideshow": {
     "slide_type": "slide"
    }
   },
   "source": [
    "# Shall we begin?\n",
    "\n",
    "![Talk is cheap](../img/quote-talk-is-cheap-show-me-the-code-linus-torvalds-273528.jpg)"
   ]
  }
 ],
 "metadata": {
  "celltoolbar": "Slideshow",
  "kernelspec": {
   "display_name": "Python 3",
   "language": "python",
   "name": "python3"
  },
  "language_info": {
   "codemirror_mode": {
    "name": "ipython",
    "version": 3
   },
   "file_extension": ".py",
   "mimetype": "text/x-python",
   "name": "python",
   "nbconvert_exporter": "python",
   "pygments_lexer": "ipython3",
   "version": "3.8.2"
  }
 },
 "nbformat": 4,
 "nbformat_minor": 4
}
